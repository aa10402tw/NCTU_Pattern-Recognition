{
 "cells": [
  {
   "cell_type": "code",
   "execution_count": null,
   "metadata": {},
   "outputs": [],
   "source": [
    "import matplotlib.pyplot as plt\n",
    "import pandas as pd\n",
    "import numpy as np\n",
    "np.set_printoptions(precision=4)\n",
    "\n",
    "class LDA:\n",
    "    def __init__(self, n_components=2):\n",
    "        self.n_components = n_components\n",
    "        self.mean = 0\n",
    "        self.std = 1\n",
    "    \n",
    "    def transform(self, X):\n",
    "        X_high = np.copy(X)\n",
    "        X_high = (X_high - self.mean) / self.std \n",
    "        # Project from high to low\n",
    "        X_low = np.matmul(X_high, self.W)\n",
    "        return np.real(X_low)\n",
    "        \n",
    "    def fit(self, X, Y):\n",
    "        N, dim = X.shape\n",
    "        X_high = np.copy(X)\n",
    "        self.mean = X_high.mean()\n",
    "        self.std = X_high.std()\n",
    "        X_high = (X_high - self.mean) / self.std \n",
    "        \n",
    "        # Compute mean for each class (mj, nj)\n",
    "        mean_vectors = []\n",
    "        for c in set(Y):\n",
    "            mean_vectors.append( np.mean(X_high[Y==c], axis=0) )\n",
    "        self.mean_vectors = mean_vectors\n",
    "        \n",
    "        # Compute within-class scatter\n",
    "        SW = np.zeros( (dim,dim) )\n",
    "        for c, mv in zip(set(Y), mean_vectors):\n",
    "            within_class_scattter = np.zeros((dim, dim))\n",
    "            for xi in X_high[Y==c]:\n",
    "                xi = xi.reshape(-1, 1) # make vec to mat\n",
    "                mj = mv.reshape(-1, 1) # make vec to mat\n",
    "                within_class_scattter += np.matmul(xi-mj, (xi-mj).T)\n",
    "            SW += within_class_scattter\n",
    "    \n",
    "        # Compute between-class scatter\n",
    "        SB = np.zeros( (dim,dim) )\n",
    "        m = np.mean(X_high, axis=0).reshape(-1, 1)\n",
    "        for c, mv in zip(set(Y), mean_vectors):\n",
    "            nj = X_high[Y==c].shape[0]\n",
    "            mj = mv.reshape(-1, 1) # make vec to mat\n",
    "            SB += nj * np.matmul((mj-m), (mj-m).T)\n",
    "            \n",
    "        # Compute W using first k eigenvetor of inv(SW)*SB\n",
    "        mat = np.dot(np.linalg.pinv(SW), SB)\n",
    "        eigenValues, eigenVectors = np.linalg.eig(mat)\n",
    "        idx = eigenValues.argsort()[::-1]   \n",
    "        eigenValues = eigenValues[idx]\n",
    "        eigenVectors = eigenVectors[:,idx]\n",
    "        W = np.real(eigenVectors[:, 0:self.n_components])\n",
    "        W /= np.linalg.norm(W, axis=0)\n",
    "        self.W = W\n",
    "        return self\n",
    "lda = LDA(n_components=2)\n",
    "X_low_lda = lda.fit(X_train, Y_train).transform(X_train)"
   ]
  }
 ],
 "metadata": {
  "kernelspec": {
   "display_name": "Python 3",
   "language": "python",
   "name": "python3"
  },
  "language_info": {
   "codemirror_mode": {
    "name": "ipython",
    "version": 3
   },
   "file_extension": ".py",
   "mimetype": "text/x-python",
   "name": "python",
   "nbconvert_exporter": "python",
   "pygments_lexer": "ipython3",
   "version": "3.6.7"
  },
  "varInspector": {
   "cols": {
    "lenName": 16,
    "lenType": 16,
    "lenVar": 40
   },
   "kernels_config": {
    "python": {
     "delete_cmd_postfix": "",
     "delete_cmd_prefix": "del ",
     "library": "var_list.py",
     "varRefreshCmd": "print(var_dic_list())"
    },
    "r": {
     "delete_cmd_postfix": ") ",
     "delete_cmd_prefix": "rm(",
     "library": "var_list.r",
     "varRefreshCmd": "cat(var_dic_list()) "
    }
   },
   "types_to_exclude": [
    "module",
    "function",
    "builtin_function_or_method",
    "instance",
    "_Feature"
   ],
   "window_display": false
  }
 },
 "nbformat": 4,
 "nbformat_minor": 2
}
